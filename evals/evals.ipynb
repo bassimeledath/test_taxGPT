{
 "cells": [
  {
   "cell_type": "code",
   "execution_count": 3,
   "metadata": {},
   "outputs": [
    {
     "data": {
      "text/plain": [
       "True"
      ]
     },
     "execution_count": 3,
     "metadata": {},
     "output_type": "execute_result"
    }
   ],
   "source": [
    "import os\n",
    "from trulens_eval.feedback.provider import OpenAI\n",
    "from dotenv import load_dotenv\n",
    "load_dotenv()\n",
    "os.environ[\"OPENAI_API_KEY\"] = os.getenv(\"OPENAI_API_KEY\")"
   ]
  },
  {
   "cell_type": "code",
   "execution_count": 10,
   "metadata": {},
   "outputs": [],
   "source": [
    "class OpenAIProvider(OpenAI):\n",
    "    def score_missingness(self, response: str, ground_truth: str) -> float:\n",
    "        prompt = f\"Based on the following response: \\n\\n{response}\\n\\nAssess how many items are missing given the ground truth: \\n\\n{ground_truth}\\n\\nPlease rate the missingness of the response on a scale from 0 to 10, where 0 is nothing missing and 10 is everything missing.\"\n",
    "        return self.generate_score(system_prompt=prompt)\n",
    "    \n",
    "    def score_accuracy(self, response: str, ground_truth: str) -> float:\n",
    "        prompt = f\"Based on the following response: \\n\\n{response}\\n\\nAnd considering the ground truth: \\n\\n{ground_truth}\\n\\nPlease rate the accuracy of the response on a scale from 0 to 10, where 0 is not at all accurate and 10 is extremely accurate.\"\n",
    "        return self.generate_score(system_prompt=prompt)"
   ]
  },
  {
   "cell_type": "code",
   "execution_count": 11,
   "metadata": {},
   "outputs": [],
   "source": [
    "openai_provider_custom = OpenAIProvider()"
   ]
  },
  {
   "cell_type": "code",
   "execution_count": 8,
   "metadata": {},
   "outputs": [
    {
     "data": {
      "text/plain": [
       "0.7"
      ]
     },
     "execution_count": 8,
     "metadata": {},
     "output_type": "execute_result"
    }
   ],
   "source": [
    "OpenAIProvider.style_check_professional(openai_provider_custom, \"I am a professional person.\") # 1.0"
   ]
  },
  {
   "cell_type": "code",
   "execution_count": null,
   "metadata": {},
   "outputs": [],
   "source": []
  }
 ],
 "metadata": {
  "kernelspec": {
   "display_name": "venv",
   "language": "python",
   "name": "python3"
  },
  "language_info": {
   "codemirror_mode": {
    "name": "ipython",
    "version": 3
   },
   "file_extension": ".py",
   "mimetype": "text/x-python",
   "name": "python",
   "nbconvert_exporter": "python",
   "pygments_lexer": "ipython3",
   "version": "3.10.9"
  }
 },
 "nbformat": 4,
 "nbformat_minor": 2
}
